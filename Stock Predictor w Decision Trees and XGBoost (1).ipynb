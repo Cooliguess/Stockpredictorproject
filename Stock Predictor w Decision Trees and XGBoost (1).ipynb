{
 "cells": [
  {
   "cell_type": "code",
   "execution_count": 1,
   "id": "3ef274be",
   "metadata": {
    "scrolled": true
   },
   "outputs": [
    {
     "name": "stdout",
     "output_type": "stream",
     "text": [
      "Requirement already satisfied: pandas_datareader in c:\\users\\dheki\\anaconda3\\envs\\stockpredictor\\lib\\site-packages (0.10.0)\n",
      "Requirement already satisfied: lxml in c:\\users\\dheki\\anaconda3\\envs\\stockpredictor\\lib\\site-packages (from pandas_datareader) (4.9.2)\n",
      "Requirement already satisfied: pandas>=0.23 in c:\\users\\dheki\\anaconda3\\envs\\stockpredictor\\lib\\site-packages (from pandas_datareader) (2.0.2)\n",
      "Requirement already satisfied: requests>=2.19.0 in c:\\users\\dheki\\anaconda3\\envs\\stockpredictor\\lib\\site-packages (from pandas_datareader) (2.29.0)\n",
      "Requirement already satisfied: numpy>=1.20.3 in c:\\users\\dheki\\anaconda3\\envs\\stockpredictor\\lib\\site-packages (from pandas>=0.23->pandas_datareader) (1.24.3)\n",
      "Requirement already satisfied: python-dateutil>=2.8.2 in c:\\users\\dheki\\anaconda3\\envs\\stockpredictor\\lib\\site-packages (from pandas>=0.23->pandas_datareader) (2.8.2)\n",
      "Requirement already satisfied: tzdata>=2022.1 in c:\\users\\dheki\\anaconda3\\envs\\stockpredictor\\lib\\site-packages (from pandas>=0.23->pandas_datareader) (2023.3)\n",
      "Requirement already satisfied: pytz>=2020.1 in c:\\users\\dheki\\anaconda3\\envs\\stockpredictor\\lib\\site-packages (from pandas>=0.23->pandas_datareader) (2022.7)\n",
      "Requirement already satisfied: charset-normalizer<4,>=2 in c:\\users\\dheki\\anaconda3\\envs\\stockpredictor\\lib\\site-packages (from requests>=2.19.0->pandas_datareader) (2.0.4)\n",
      "Requirement already satisfied: urllib3<1.27,>=1.21.1 in c:\\users\\dheki\\anaconda3\\envs\\stockpredictor\\lib\\site-packages (from requests>=2.19.0->pandas_datareader) (1.26.15)\n",
      "Requirement already satisfied: idna<4,>=2.5 in c:\\users\\dheki\\anaconda3\\envs\\stockpredictor\\lib\\site-packages (from requests>=2.19.0->pandas_datareader) (3.4)\n",
      "Requirement already satisfied: certifi>=2017.4.17 in c:\\users\\dheki\\anaconda3\\envs\\stockpredictor\\lib\\site-packages (from requests>=2.19.0->pandas_datareader) (2023.5.7)\n",
      "Requirement already satisfied: six>=1.5 in c:\\users\\dheki\\anaconda3\\envs\\stockpredictor\\lib\\site-packages (from python-dateutil>=2.8.2->pandas>=0.23->pandas_datareader) (1.16.0)\n",
      "Requirement already satisfied: yfinance in c:\\users\\dheki\\anaconda3\\envs\\stockpredictor\\lib\\site-packages (0.2.18)\n",
      "Requirement already satisfied: pytz>=2022.5 in c:\\users\\dheki\\anaconda3\\envs\\stockpredictor\\lib\\site-packages (from yfinance) (2022.7)\n",
      "Requirement already satisfied: pandas>=1.3.0 in c:\\users\\dheki\\anaconda3\\envs\\stockpredictor\\lib\\site-packages (from yfinance) (2.0.2)\n",
      "Requirement already satisfied: multitasking>=0.0.7 in c:\\users\\dheki\\anaconda3\\envs\\stockpredictor\\lib\\site-packages (from yfinance) (0.0.11)\n",
      "Requirement already satisfied: cryptography>=3.3.2 in c:\\users\\dheki\\anaconda3\\envs\\stockpredictor\\lib\\site-packages (from yfinance) (39.0.1)\n",
      "Requirement already satisfied: appdirs>=1.4.4 in c:\\users\\dheki\\anaconda3\\envs\\stockpredictor\\lib\\site-packages (from yfinance) (1.4.4)\n",
      "Requirement already satisfied: numpy>=1.16.5 in c:\\users\\dheki\\anaconda3\\envs\\stockpredictor\\lib\\site-packages (from yfinance) (1.24.3)\n",
      "Requirement already satisfied: lxml>=4.9.1 in c:\\users\\dheki\\anaconda3\\envs\\stockpredictor\\lib\\site-packages (from yfinance) (4.9.2)\n",
      "Requirement already satisfied: html5lib>=1.1 in c:\\users\\dheki\\anaconda3\\envs\\stockpredictor\\lib\\site-packages (from yfinance) (1.1)\n",
      "Requirement already satisfied: frozendict>=2.3.4 in c:\\users\\dheki\\anaconda3\\envs\\stockpredictor\\lib\\site-packages (from yfinance) (2.3.8)\n",
      "Requirement already satisfied: beautifulsoup4>=4.11.1 in c:\\users\\dheki\\anaconda3\\envs\\stockpredictor\\lib\\site-packages (from yfinance) (4.12.2)\n",
      "Requirement already satisfied: requests>=2.26 in c:\\users\\dheki\\anaconda3\\envs\\stockpredictor\\lib\\site-packages (from yfinance) (2.29.0)\n",
      "Requirement already satisfied: soupsieve>1.2 in c:\\users\\dheki\\anaconda3\\envs\\stockpredictor\\lib\\site-packages (from beautifulsoup4>=4.11.1->yfinance) (2.4)\n",
      "Requirement already satisfied: cffi>=1.12 in c:\\users\\dheki\\anaconda3\\envs\\stockpredictor\\lib\\site-packages (from cryptography>=3.3.2->yfinance) (1.15.1)\n",
      "Requirement already satisfied: six>=1.9 in c:\\users\\dheki\\anaconda3\\envs\\stockpredictor\\lib\\site-packages (from html5lib>=1.1->yfinance) (1.16.0)\n",
      "Requirement already satisfied: webencodings in c:\\users\\dheki\\anaconda3\\envs\\stockpredictor\\lib\\site-packages (from html5lib>=1.1->yfinance) (0.5.1)\n",
      "Requirement already satisfied: python-dateutil>=2.8.2 in c:\\users\\dheki\\anaconda3\\envs\\stockpredictor\\lib\\site-packages (from pandas>=1.3.0->yfinance) (2.8.2)\n",
      "Requirement already satisfied: tzdata>=2022.1 in c:\\users\\dheki\\anaconda3\\envs\\stockpredictor\\lib\\site-packages (from pandas>=1.3.0->yfinance) (2023.3)\n",
      "Requirement already satisfied: certifi>=2017.4.17 in c:\\users\\dheki\\anaconda3\\envs\\stockpredictor\\lib\\site-packages (from requests>=2.26->yfinance) (2023.5.7)\n",
      "Requirement already satisfied: idna<4,>=2.5 in c:\\users\\dheki\\anaconda3\\envs\\stockpredictor\\lib\\site-packages (from requests>=2.26->yfinance) (3.4)\n",
      "Requirement already satisfied: urllib3<1.27,>=1.21.1 in c:\\users\\dheki\\anaconda3\\envs\\stockpredictor\\lib\\site-packages (from requests>=2.26->yfinance) (1.26.15)\n",
      "Requirement already satisfied: charset-normalizer<4,>=2 in c:\\users\\dheki\\anaconda3\\envs\\stockpredictor\\lib\\site-packages (from requests>=2.26->yfinance) (2.0.4)\n",
      "Requirement already satisfied: pycparser in c:\\users\\dheki\\anaconda3\\envs\\stockpredictor\\lib\\site-packages (from cffi>=1.12->cryptography>=3.3.2->yfinance) (2.21)\n",
      "Requirement already satisfied: xgboost in c:\\users\\dheki\\anaconda3\\envs\\stockpredictor\\lib\\site-packages (1.7.5)\n",
      "Requirement already satisfied: scipy in c:\\users\\dheki\\anaconda3\\envs\\stockpredictor\\lib\\site-packages (from xgboost) (1.10.1)\n",
      "Requirement already satisfied: numpy in c:\\users\\dheki\\anaconda3\\envs\\stockpredictor\\lib\\site-packages (from xgboost) (1.24.3)\n",
      "Requirement already satisfied: ta in c:\\users\\dheki\\anaconda3\\envs\\stockpredictor\\lib\\site-packages (0.10.2)\n",
      "Requirement already satisfied: pandas in c:\\users\\dheki\\anaconda3\\envs\\stockpredictor\\lib\\site-packages (from ta) (2.0.2)\n",
      "Requirement already satisfied: numpy in c:\\users\\dheki\\anaconda3\\envs\\stockpredictor\\lib\\site-packages (from ta) (1.24.3)\n",
      "Requirement already satisfied: python-dateutil>=2.8.2 in c:\\users\\dheki\\anaconda3\\envs\\stockpredictor\\lib\\site-packages (from pandas->ta) (2.8.2)\n",
      "Requirement already satisfied: tzdata>=2022.1 in c:\\users\\dheki\\anaconda3\\envs\\stockpredictor\\lib\\site-packages (from pandas->ta) (2023.3)\n",
      "Requirement already satisfied: pytz>=2020.1 in c:\\users\\dheki\\anaconda3\\envs\\stockpredictor\\lib\\site-packages (from pandas->ta) (2022.7)\n",
      "Requirement already satisfied: six>=1.5 in c:\\users\\dheki\\anaconda3\\envs\\stockpredictor\\lib\\site-packages (from python-dateutil>=2.8.2->pandas->ta) (1.16.0)\n"
     ]
    }
   ],
   "source": [
    "#Short term fluctuations\n",
    "!pip install pandas_datareader\n",
    "!pip install google-api-python-client\n",
    "!pip install yfinance\n",
    "!pip install xgboost\n",
    "!pip install ta\n",
    "import ta\n",
    "import pandas as pd\n",
    "import requests\n",
    "import time\n",
    "import pandas_datareader.data as web\n",
    "import datetime\n",
    "import numpy as np\n",
    "from sklearn.tree import DecisionTreeClassifier\n",
    "from pandas_datareader import data as pdr\n",
    "import matplotlib.pyplot as plt\n",
    "import xgboost as xgb\n",
    "import os\n",
    "os.environ[\"PATH\"] += os.pathsep + 'C:/Program Files (x86)/Graphviz/bin/'\n",
    "import yfinance as yfin\n",
    "yfin.pdr_override()"
   ]
  },
  {
   "cell_type": "code",
   "execution_count": 5,
   "id": "c7a7e995",
   "metadata": {},
   "outputs": [
    {
     "name": "stdout",
     "output_type": "stream",
     "text": [
      "[*********************100%***********************]  1 of 1 completed\n"
     ]
    },
    {
     "data": {
      "text/html": [
       "<div>\n",
       "<style scoped>\n",
       "    .dataframe tbody tr th:only-of-type {\n",
       "        vertical-align: middle;\n",
       "    }\n",
       "\n",
       "    .dataframe tbody tr th {\n",
       "        vertical-align: top;\n",
       "    }\n",
       "\n",
       "    .dataframe thead th {\n",
       "        text-align: right;\n",
       "    }\n",
       "</style>\n",
       "<table border=\"1\" class=\"dataframe\">\n",
       "  <thead>\n",
       "    <tr style=\"text-align: right;\">\n",
       "      <th></th>\n",
       "      <th>Open</th>\n",
       "      <th>High</th>\n",
       "      <th>Low</th>\n",
       "      <th>Close</th>\n",
       "      <th>Adj Close</th>\n",
       "      <th>Volume</th>\n",
       "    </tr>\n",
       "    <tr>\n",
       "      <th>Date</th>\n",
       "      <th></th>\n",
       "      <th></th>\n",
       "      <th></th>\n",
       "      <th></th>\n",
       "      <th></th>\n",
       "      <th></th>\n",
       "    </tr>\n",
       "  </thead>\n",
       "  <tbody>\n",
       "    <tr>\n",
       "      <th>2013-01-02</th>\n",
       "      <td>18.003504</td>\n",
       "      <td>18.193193</td>\n",
       "      <td>17.931683</td>\n",
       "      <td>18.099348</td>\n",
       "      <td>18.099348</td>\n",
       "      <td>101550348</td>\n",
       "    </tr>\n",
       "    <tr>\n",
       "      <th>2013-01-03</th>\n",
       "      <td>18.141392</td>\n",
       "      <td>18.316566</td>\n",
       "      <td>18.036036</td>\n",
       "      <td>18.109859</td>\n",
       "      <td>18.109859</td>\n",
       "      <td>92635272</td>\n",
       "    </tr>\n",
       "    <tr>\n",
       "      <th>2013-01-04</th>\n",
       "      <td>18.251753</td>\n",
       "      <td>18.555305</td>\n",
       "      <td>18.210211</td>\n",
       "      <td>18.467718</td>\n",
       "      <td>18.467718</td>\n",
       "      <td>110429460</td>\n",
       "    </tr>\n",
       "    <tr>\n",
       "      <th>2013-01-07</th>\n",
       "      <td>18.404655</td>\n",
       "      <td>18.503002</td>\n",
       "      <td>18.282784</td>\n",
       "      <td>18.387136</td>\n",
       "      <td>18.387136</td>\n",
       "      <td>66161772</td>\n",
       "    </tr>\n",
       "    <tr>\n",
       "      <th>2013-01-08</th>\n",
       "      <td>18.406906</td>\n",
       "      <td>18.425926</td>\n",
       "      <td>18.128880</td>\n",
       "      <td>18.350851</td>\n",
       "      <td>18.350851</td>\n",
       "      <td>66976956</td>\n",
       "    </tr>\n",
       "    <tr>\n",
       "      <th>...</th>\n",
       "      <td>...</td>\n",
       "      <td>...</td>\n",
       "      <td>...</td>\n",
       "      <td>...</td>\n",
       "      <td>...</td>\n",
       "      <td>...</td>\n",
       "    </tr>\n",
       "    <tr>\n",
       "      <th>2023-05-30</th>\n",
       "      <td>125.639999</td>\n",
       "      <td>125.660004</td>\n",
       "      <td>122.000000</td>\n",
       "      <td>123.669998</td>\n",
       "      <td>123.669998</td>\n",
       "      <td>35076700</td>\n",
       "    </tr>\n",
       "    <tr>\n",
       "      <th>2023-05-31</th>\n",
       "      <td>122.750000</td>\n",
       "      <td>124.059998</td>\n",
       "      <td>122.500000</td>\n",
       "      <td>122.870003</td>\n",
       "      <td>122.870003</td>\n",
       "      <td>37325800</td>\n",
       "    </tr>\n",
       "    <tr>\n",
       "      <th>2023-06-01</th>\n",
       "      <td>122.820000</td>\n",
       "      <td>124.419998</td>\n",
       "      <td>122.620003</td>\n",
       "      <td>123.720001</td>\n",
       "      <td>123.720001</td>\n",
       "      <td>30772700</td>\n",
       "    </tr>\n",
       "    <tr>\n",
       "      <th>2023-06-02</th>\n",
       "      <td>123.989998</td>\n",
       "      <td>126.150002</td>\n",
       "      <td>123.760002</td>\n",
       "      <td>124.669998</td>\n",
       "      <td>124.669998</td>\n",
       "      <td>26963100</td>\n",
       "    </tr>\n",
       "    <tr>\n",
       "      <th>2023-06-05</th>\n",
       "      <td>124.010002</td>\n",
       "      <td>127.430000</td>\n",
       "      <td>123.839996</td>\n",
       "      <td>126.010002</td>\n",
       "      <td>126.010002</td>\n",
       "      <td>32270700</td>\n",
       "    </tr>\n",
       "  </tbody>\n",
       "</table>\n",
       "<p>2624 rows × 6 columns</p>\n",
       "</div>"
      ],
      "text/plain": [
       "                  Open        High         Low       Close   Adj Close  \\\n",
       "Date                                                                     \n",
       "2013-01-02   18.003504   18.193193   17.931683   18.099348   18.099348   \n",
       "2013-01-03   18.141392   18.316566   18.036036   18.109859   18.109859   \n",
       "2013-01-04   18.251753   18.555305   18.210211   18.467718   18.467718   \n",
       "2013-01-07   18.404655   18.503002   18.282784   18.387136   18.387136   \n",
       "2013-01-08   18.406906   18.425926   18.128880   18.350851   18.350851   \n",
       "...                ...         ...         ...         ...         ...   \n",
       "2023-05-30  125.639999  125.660004  122.000000  123.669998  123.669998   \n",
       "2023-05-31  122.750000  124.059998  122.500000  122.870003  122.870003   \n",
       "2023-06-01  122.820000  124.419998  122.620003  123.720001  123.720001   \n",
       "2023-06-02  123.989998  126.150002  123.760002  124.669998  124.669998   \n",
       "2023-06-05  124.010002  127.430000  123.839996  126.010002  126.010002   \n",
       "\n",
       "               Volume  \n",
       "Date                   \n",
       "2013-01-02  101550348  \n",
       "2013-01-03   92635272  \n",
       "2013-01-04  110429460  \n",
       "2013-01-07   66161772  \n",
       "2013-01-08   66976956  \n",
       "...               ...  \n",
       "2023-05-30   35076700  \n",
       "2023-05-31   37325800  \n",
       "2023-06-01   30772700  \n",
       "2023-06-02   26963100  \n",
       "2023-06-05   32270700  \n",
       "\n",
       "[2624 rows x 6 columns]"
      ]
     },
     "execution_count": 5,
     "metadata": {},
     "output_type": "execute_result"
    }
   ],
   "source": [
    "df = yfin.download(\"GOOGL\", start=\"2013-01-01\", end=datetime.datetime.now())\n",
    "df"
   ]
  },
  {
   "cell_type": "code",
   "execution_count": 73,
   "id": "652862c7",
   "metadata": {},
   "outputs": [
    {
     "data": {
      "text/plain": [
       "[<matplotlib.lines.Line2D at 0x2762558fa60>]"
      ]
     },
     "execution_count": 73,
     "metadata": {},
     "output_type": "execute_result"
    },
    {
     "data": {
      "image/png": "[encoded data removed]",
      "text/plain": [
       "<Figure size 640x480 with 1 Axes>"
      ]
     },
     "metadata": {},
     "output_type": "display_data"
    }
   ],
   "source": [
    "#Plot the closing price of Google (or whichever one)\n",
    "plt.plot(df['Close'])"
   ]
  },
  {
   "cell_type": "code",
   "execution_count": 7,
   "id": "9e95fe0d",
   "metadata": {},
   "outputs": [],
   "source": [
    "df['Return'] = df['Adj Close'].pct_change(60).shift(-60)\n",
    "df['RSI'] = ta.momentum.RSIIndicator(close=df['Close'], window=14).rsi()\n",
    "df['SMA'] = df['Close'].rolling(window=20).mean()  \n",
    "df['MACD'] = ta.trend.MACD(df['Close']).macd()   \n",
    "list_of_features = ['High', 'Low', 'Close', 'Volume', 'Adj Close', 'SMA', 'RSI', 'MACD']\n",
    "X = df[list_of_features]\n",
    "\n",
    "y = np.where(df.Return > 0, 1, 0)\n",
    "#df"
   ]
  },
  {
   "cell_type": "code",
   "execution_count": 8,
   "id": "b1bcb9e9",
   "metadata": {},
   "outputs": [],
   "source": [
    "#split data to see how good the decision tree will be\n",
    "from sklearn.model_selection import train_test_split\n",
    "X_train, X_test, y_train, y_test = train_test_split(X, y, test_size=0.3, random_state = 500)\n",
    "#print sizes of the data\n",
    "#print(X_train.shape)\n",
    "#print(X_test.shape)\n",
    "#print(y_train.shape)\n",
    "#print(y_test.shape)"
   ]
  },
  {
   "cell_type": "code",
   "execution_count": 9,
   "id": "f33b43e3",
   "metadata": {
    "scrolled": false
   },
   "outputs": [
    {
     "data": {
      "text/html": [
       "<style>#sk-container-id-1 {color: black;background-color: white;}#sk-container-id-1 pre{padding: 0;}#sk-container-id-1 div.sk-toggleable {background-color: white;}#sk-container-id-1 label.sk-toggleable__label {cursor: pointer;display: block;width: 100%;margin-bottom: 0;padding: 0.3em;box-sizing: border-box;text-align: center;}#sk-container-id-1 label.sk-toggleable__label-arrow:before {content: \"▸\";float: left;margin-right: 0.25em;color: #696969;}#sk-container-id-1 label.sk-toggleable__label-arrow:hover:before {color: black;}#sk-container-id-1 div.sk-estimator:hover label.sk-toggleable__label-arrow:before {color: black;}#sk-container-id-1 div.sk-toggleable__content {max-height: 0;max-width: 0;overflow: hidden;text-align: left;background-color: #f0f8ff;}#sk-container-id-1 div.sk-toggleable__content pre {margin: 0.2em;color: black;border-radius: 0.25em;background-color: #f0f8ff;}#sk-container-id-1 input.sk-toggleable__control:checked~div.sk-toggleable__content {max-height: 200px;max-width: 100%;overflow: auto;}#sk-container-id-1 input.sk-toggleable__control:checked~label.sk-toggleable__label-arrow:before {content: \"▾\";}#sk-container-id-1 div.sk-estimator input.sk-toggleable__control:checked~label.sk-toggleable__label {background-color: #d4ebff;}#sk-container-id-1 div.sk-label input.sk-toggleable__control:checked~label.sk-toggleable__label {background-color: #d4ebff;}#sk-container-id-1 input.sk-hidden--visually {border: 0;clip: rect(1px 1px 1px 1px);clip: rect(1px, 1px, 1px, 1px);height: 1px;margin: -1px;overflow: hidden;padding: 0;position: absolute;width: 1px;}#sk-container-id-1 div.sk-estimator {font-family: monospace;background-color: #f0f8ff;border: 1px dotted black;border-radius: 0.25em;box-sizing: border-box;margin-bottom: 0.5em;}#sk-container-id-1 div.sk-estimator:hover {background-color: #d4ebff;}#sk-container-id-1 div.sk-parallel-item::after {content: \"\";width: 100%;border-bottom: 1px solid gray;flex-grow: 1;}#sk-container-id-1 div.sk-label:hover label.sk-toggleable__label {background-color: #d4ebff;}#sk-container-id-1 div.sk-serial::before {content: \"\";position: absolute;border-left: 1px solid gray;box-sizing: border-box;top: 0;bottom: 0;left: 50%;z-index: 0;}#sk-container-id-1 div.sk-serial {display: flex;flex-direction: column;align-items: center;background-color: white;padding-right: 0.2em;padding-left: 0.2em;position: relative;}#sk-container-id-1 div.sk-item {position: relative;z-index: 1;}#sk-container-id-1 div.sk-parallel {display: flex;align-items: stretch;justify-content: center;background-color: white;position: relative;}#sk-container-id-1 div.sk-item::before, #sk-container-id-1 div.sk-parallel-item::before {content: \"\";position: absolute;border-left: 1px solid gray;box-sizing: border-box;top: 0;bottom: 0;left: 50%;z-index: -1;}#sk-container-id-1 div.sk-parallel-item {display: flex;flex-direction: column;z-index: 1;position: relative;background-color: white;}#sk-container-id-1 div.sk-parallel-item:first-child::after {align-self: flex-end;width: 50%;}#sk-container-id-1 div.sk-parallel-item:last-child::after {align-self: flex-start;width: 50%;}#sk-container-id-1 div.sk-parallel-item:only-child::after {width: 0;}#sk-container-id-1 div.sk-dashed-wrapped {border: 1px dashed gray;margin: 0 0.4em 0.5em 0.4em;box-sizing: border-box;padding-bottom: 0.4em;background-color: white;}#sk-container-id-1 div.sk-label label {font-family: monospace;font-weight: bold;display: inline-block;line-height: 1.2em;}#sk-container-id-1 div.sk-label-container {text-align: center;}#sk-container-id-1 div.sk-container {/* jupyter's `normalize.less` sets `[hidden] { display: none; }` but bootstrap.min.css set `[hidden] { display: none !important; }` so we also need the `!important` here to be able to override the default hidden behavior on the sphinx rendered scikit-learn.org. See: https://github.com/scikit-learn/scikit-learn/issues/21755 */display: inline-block !important;position: relative;}#sk-container-id-1 div.sk-text-repr-fallback {display: none;}</style><div id=\"sk-container-id-1\" class=\"sk-top-container\"><div class=\"sk-text-repr-fallback\"><pre>XGBClassifier(base_score=None, booster=None, callbacks=None,\n",
       "              colsample_bylevel=None, colsample_bynode=None,\n",
       "              colsample_bytree=None, early_stopping_rounds=None,\n",
       "              enable_categorical=False, eval_metric=None, feature_types=None,\n",
       "              gamma=None, gpu_id=None, grow_policy=None, importance_type=None,\n",
       "              interaction_constraints=None, learning_rate=None, max_bin=None,\n",
       "              max_cat_threshold=None, max_cat_to_onehot=None,\n",
       "              max_delta_step=None, max_depth=3, max_leaves=None,\n",
       "              min_child_weight=None, missing=nan, monotone_constraints=None,\n",
       "              n_estimators=100, n_jobs=None, num_parallel_tree=None,\n",
       "              predictor=None, random_state=None, ...)</pre><b>In a Jupyter environment, please rerun this cell to show the HTML representation or trust the notebook. <br />On GitHub, the HTML representation is unable to render, please try loading this page with nbviewer.org.</b></div><div class=\"sk-container\" hidden><div class=\"sk-item\"><div class=\"sk-estimator sk-toggleable\"><input class=\"sk-toggleable__control sk-hidden--visually\" id=\"sk-estimator-id-1\" type=\"checkbox\" checked><label for=\"sk-estimator-id-1\" class=\"sk-toggleable__label sk-toggleable__label-arrow\">XGBClassifier</label><div class=\"sk-toggleable__content\"><pre>XGBClassifier(base_score=None, booster=None, callbacks=None,\n",
       "              colsample_bylevel=None, colsample_bynode=None,\n",
       "              colsample_bytree=None, early_stopping_rounds=None,\n",
       "              enable_categorical=False, eval_metric=None, feature_types=None,\n",
       "              gamma=None, gpu_id=None, grow_policy=None, importance_type=None,\n",
       "              interaction_constraints=None, learning_rate=None, max_bin=None,\n",
       "              max_cat_threshold=None, max_cat_to_onehot=None,\n",
       "              max_delta_step=None, max_depth=3, max_leaves=None,\n",
       "              min_child_weight=None, missing=nan, monotone_constraints=None,\n",
       "              n_estimators=100, n_jobs=None, num_parallel_tree=None,\n",
       "              predictor=None, random_state=None, ...)</pre></div></div></div></div></div>"
      ],
      "text/plain": [
       "XGBClassifier(base_score=None, booster=None, callbacks=None,\n",
       "              colsample_bylevel=None, colsample_bynode=None,\n",
       "              colsample_bytree=None, early_stopping_rounds=None,\n",
       "              enable_categorical=False, eval_metric=None, feature_types=None,\n",
       "              gamma=None, gpu_id=None, grow_policy=None, importance_type=None,\n",
       "              interaction_constraints=None, learning_rate=None, max_bin=None,\n",
       "              max_cat_threshold=None, max_cat_to_onehot=None,\n",
       "              max_delta_step=None, max_depth=3, max_leaves=None,\n",
       "              min_child_weight=None, missing=nan, monotone_constraints=None,\n",
       "              n_estimators=100, n_jobs=None, num_parallel_tree=None,\n",
       "              predictor=None, random_state=None, ...)"
      ]
     },
     "execution_count": 9,
     "metadata": {},
     "output_type": "execute_result"
    }
   ],
   "source": [
    "#treeClassifier = DecisionTreeClassifier('entropy', max_depth=4, min_samples_leaf=7)\n",
    "#treeClassifier.fit(X_train, y_train)\n",
    "xgb_Classifier = xgb.XGBClassifier(max_depth=3)\n",
    "xgb_Classifier.fit(X_train, y_train)"
   ]
  },
  {
   "cell_type": "code",
   "execution_count": 10,
   "id": "a4293db1",
   "metadata": {},
   "outputs": [],
   "source": [
    "#y_pred = tree_Classifier.predict(X_test)\n",
    "y_pred = xgb_Classifier.predict(X_test)"
   ]
  },
  {
   "cell_type": "code",
   "execution_count": 12,
   "id": "86cae6e0",
   "metadata": {},
   "outputs": [
    {
     "name": "stdout",
     "output_type": "stream",
     "text": [
      "              precision    recall  f1-score   support\n",
      "\n",
      "           0       0.83      0.78      0.80       298\n",
      "           1       0.87      0.91      0.89       490\n",
      "\n",
      "    accuracy                           0.86       788\n",
      "   macro avg       0.85      0.84      0.85       788\n",
      "weighted avg       0.86      0.86      0.86       788\n",
      "\n"
     ]
    }
   ],
   "source": [
    "#Check performances\n",
    "from sklearn.metrics import classification_report\n",
    "report = classification_report(y_test,y_pred)\n",
    "print(report)"
   ]
  },
  {
   "cell_type": "code",
   "execution_count": 13,
   "id": "5ea040e3",
   "metadata": {},
   "outputs": [
    {
     "data": {
      "text/plain": [
       "<Figure size 2400x5000 with 0 Axes>"
      ]
     },
     "metadata": {},
     "output_type": "display_data"
    },
    {
     "data": {
      "image/png": "[encoded data removed]",
      "text/plain": [
       "<Figure size 640x480 with 1 Axes>"
      ]
     },
     "metadata": {},
     "output_type": "display_data"
    }
   ],
   "source": [
    "#View Tree\n",
    "from sklearn import tree\n",
    "import graphviz\n",
    "\n",
    "plt.figure(figsize=(24, 50))\n",
    "# Visualize a single tree using xgb.plot_tree()\n",
    "xgb.plot_tree(xgb_Classifier, num_trees=0, max_depth=3)\n",
    "plt.show()"
   ]
  },
  {
   "cell_type": "code",
   "execution_count": null,
   "id": "7bc58dd6",
   "metadata": {},
   "outputs": [],
   "source": []
  }
 ],
 "metadata": {
  "kernelspec": {
   "display_name": "StockPredictor",
   "language": "python",
   "name": "stockpredictor"
  },
  "language_info": {
   "codemirror_mode": {
    "name": "ipython",
    "version": 3
   },
   "file_extension": ".py",
   "mimetype": "text/x-python",
   "name": "python",
   "nbconvert_exporter": "python",
   "pygments_lexer": "ipython3",
   "version": "3.8.16"
  }
 },
 "nbformat": 4,
 "nbformat_minor": 5
}
